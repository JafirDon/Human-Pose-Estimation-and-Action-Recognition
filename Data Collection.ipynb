{
 "cells": [
  {
   "cell_type": "code",
   "execution_count": 1,
   "id": "cb91438c",
   "metadata": {},
   "outputs": [],
   "source": [
    "import cv2\n",
    "import mediapipe as mp"
   ]
  },
  {
   "cell_type": "code",
   "execution_count": 2,
   "id": "8c146f49",
   "metadata": {},
   "outputs": [],
   "source": [
    "mp_drawing = mp.solutions.drawing_utils\n",
    "mp_holistic = mp.solutions.holistic"
   ]
  },
  {
   "cell_type": "code",
   "execution_count": 15,
   "id": "6e40692e",
   "metadata": {},
   "outputs": [],
   "source": [
    "cap = cv2.VideoCapture(1)\n",
    "with mp_holistic.Holistic(min_detection_confidence=0.5, min_tracking_confidence=0.5) as holistic:\n",
    "    \n",
    "    while cap.isOpened():\n",
    "        ret, frame = cap.read()\n",
    "\n",
    "        image = cv2.cvtColor(frame, cv2.COLOR_BGR2RGB)\n",
    "        image.flags.writeable = False       \n",
    "        \n",
    "        results = holistic.process(image)\n",
    "        image.flags.writeable = True   \n",
    "        image = cv2.cvtColor(image, cv2.COLOR_RGB2BGR)\n",
    "        \n",
    "        mp_drawing.draw_landmarks(image, results.pose_landmarks, mp_holistic.POSE_CONNECTIONS, \n",
    "                                 mp_drawing.DrawingSpec(color=(245,117,66), thickness=2, circle_radius=4),\n",
    "                                 mp_drawing.DrawingSpec(color=(245,66,230), thickness=2, circle_radius=2))  \n",
    "        \n",
    "        cv2.imshow('Raw Webcam Feed', image)\n",
    "\n",
    "        if cv2.waitKey(10) & 0xFF == ord('q'):\n",
    "            break\n",
    "\n",
    "cap.release()\n",
    "cv2.destroyAllWindows()"
   ]
  },
  {
   "cell_type": "code",
   "execution_count": 27,
   "id": "f8bb9c57",
   "metadata": {},
   "outputs": [],
   "source": [
    "import os\n",
    "import csv\n",
    "import numpy as np"
   ]
  },
  {
   "cell_type": "code",
   "execution_count": 28,
   "id": "4ee78abf",
   "metadata": {},
   "outputs": [],
   "source": [
    "num_coords = len(results.pose_landmarks.landmark)\n",
    "landmarks = ['class']\n",
    "for val in range(1, num_coords+1):\n",
    "    landmarks += ['x{}'.format(val), 'y{}'.format(val), 'z{}'.format(val), 'v{}'.format(val)]"
   ]
  },
  {
   "cell_type": "code",
   "execution_count": 29,
   "id": "9fd5a033",
   "metadata": {},
   "outputs": [],
   "source": [
    "with open('Pose_keypoints.csv', mode='w', newline='') as f:\n",
    "    csv_writer = csv.writer(f, delimiter=',', quotechar='\"', quoting=csv.QUOTE_MINIMAL)\n",
    "    csv_writer.writerow(landmarks)"
   ]
  },
  {
   "cell_type": "code",
   "execution_count": 77,
   "id": "b5861476",
   "metadata": {},
   "outputs": [],
   "source": [
    "class_name = 'Nothing' #Left #Right #Down #Up #Nothing"
   ]
  },
  {
   "cell_type": "code",
   "execution_count": 78,
   "id": "508df8bb",
   "metadata": {},
   "outputs": [],
   "source": [
    "cap = cv2.VideoCapture(1)\n",
    "with mp_holistic.Holistic(min_detection_confidence=0.5, min_tracking_confidence=0.5) as holistic:\n",
    "    \n",
    "    while cap.isOpened():\n",
    "        ret, frame = cap.read()\n",
    "        \n",
    "        image = cv2.cvtColor(frame, cv2.COLOR_BGR2RGB)\n",
    "        image.flags.writeable = False        \n",
    "        \n",
    "        results = holistic.process(image)\n",
    "        \n",
    "        image.flags.writeable = True   \n",
    "        image = cv2.cvtColor(image, cv2.COLOR_RGB2BGR)\n",
    "        \n",
    "        mp_drawing.draw_landmarks(image, results.pose_landmarks, mp_holistic.POSE_CONNECTIONS, \n",
    "                                 mp_drawing.DrawingSpec(color=(245,117,66), thickness=2, circle_radius=4),\n",
    "                                 mp_drawing.DrawingSpec(color=(245,66,230), thickness=2, circle_radius=2)) \n",
    "\n",
    "        try:\n",
    "            \n",
    "            pose = results.pose_landmarks.landmark\n",
    "            pose_row = list(np.array([[landmark.x, landmark.y, landmark.z, landmark.visibility] for landmark in pose]).flatten())\n",
    "            \n",
    "            row = pose_row \n",
    "            row.insert(0, class_name)\n",
    "            \n",
    "            with open('Pose_keypoints.csv', mode='a', newline='') as f:\n",
    "                csv_writer = csv.writer(f, delimiter=',', quotechar='\"', quoting=csv.QUOTE_MINIMAL)\n",
    "                csv_writer.writerow(row) \n",
    "            \n",
    "        except:\n",
    "            pass\n",
    "                        \n",
    "        cv2.imshow('Raw Webcam Feed', image)\n",
    "\n",
    "        if cv2.waitKey(10) & 0xFF == ord('q'):\n",
    "            break\n",
    "\n",
    "cap.release()\n",
    "cv2.destroyAllWindows()"
   ]
  },
  {
   "cell_type": "code",
   "execution_count": 79,
   "id": "790d0699",
   "metadata": {},
   "outputs": [],
   "source": [
    "import pandas as pd\n",
    "import seaborn as sns\n",
    "\n",
    "import warnings\n",
    "warnings.filterwarnings('ignore')"
   ]
  },
  {
   "cell_type": "code",
   "execution_count": 80,
   "id": "caec7b6c",
   "metadata": {},
   "outputs": [
    {
     "data": {
      "text/html": [
       "<div>\n",
       "<style scoped>\n",
       "    .dataframe tbody tr th:only-of-type {\n",
       "        vertical-align: middle;\n",
       "    }\n",
       "\n",
       "    .dataframe tbody tr th {\n",
       "        vertical-align: top;\n",
       "    }\n",
       "\n",
       "    .dataframe thead th {\n",
       "        text-align: right;\n",
       "    }\n",
       "</style>\n",
       "<table border=\"1\" class=\"dataframe\">\n",
       "  <thead>\n",
       "    <tr style=\"text-align: right;\">\n",
       "      <th></th>\n",
       "      <th>class</th>\n",
       "      <th>x1</th>\n",
       "      <th>y1</th>\n",
       "      <th>z1</th>\n",
       "      <th>v1</th>\n",
       "      <th>x2</th>\n",
       "      <th>y2</th>\n",
       "      <th>z2</th>\n",
       "      <th>v2</th>\n",
       "      <th>x3</th>\n",
       "      <th>...</th>\n",
       "      <th>z31</th>\n",
       "      <th>v31</th>\n",
       "      <th>x32</th>\n",
       "      <th>y32</th>\n",
       "      <th>z32</th>\n",
       "      <th>v32</th>\n",
       "      <th>x33</th>\n",
       "      <th>y33</th>\n",
       "      <th>z33</th>\n",
       "      <th>v33</th>\n",
       "    </tr>\n",
       "  </thead>\n",
       "  <tbody>\n",
       "    <tr>\n",
       "      <th>0</th>\n",
       "      <td>Left</td>\n",
       "      <td>0.627484</td>\n",
       "      <td>0.151723</td>\n",
       "      <td>-0.647896</td>\n",
       "      <td>0.998232</td>\n",
       "      <td>0.648523</td>\n",
       "      <td>0.121703</td>\n",
       "      <td>-0.603666</td>\n",
       "      <td>0.995263</td>\n",
       "      <td>0.657341</td>\n",
       "      <td>...</td>\n",
       "      <td>0.239542</td>\n",
       "      <td>0.109149</td>\n",
       "      <td>0.522030</td>\n",
       "      <td>0.995119</td>\n",
       "      <td>0.145659</td>\n",
       "      <td>0.049162</td>\n",
       "      <td>0.333944</td>\n",
       "      <td>0.966942</td>\n",
       "      <td>0.124182</td>\n",
       "      <td>0.058633</td>\n",
       "    </tr>\n",
       "    <tr>\n",
       "      <th>1</th>\n",
       "      <td>Left</td>\n",
       "      <td>0.641352</td>\n",
       "      <td>0.151721</td>\n",
       "      <td>-0.970539</td>\n",
       "      <td>0.998358</td>\n",
       "      <td>0.663978</td>\n",
       "      <td>0.121710</td>\n",
       "      <td>-0.934947</td>\n",
       "      <td>0.995574</td>\n",
       "      <td>0.673015</td>\n",
       "      <td>...</td>\n",
       "      <td>0.790160</td>\n",
       "      <td>0.101617</td>\n",
       "      <td>0.471389</td>\n",
       "      <td>1.217810</td>\n",
       "      <td>0.692263</td>\n",
       "      <td>0.046613</td>\n",
       "      <td>0.289944</td>\n",
       "      <td>1.177155</td>\n",
       "      <td>0.611688</td>\n",
       "      <td>0.055068</td>\n",
       "    </tr>\n",
       "    <tr>\n",
       "      <th>2</th>\n",
       "      <td>Left</td>\n",
       "      <td>0.651244</td>\n",
       "      <td>0.153861</td>\n",
       "      <td>-1.094983</td>\n",
       "      <td>0.998514</td>\n",
       "      <td>0.674605</td>\n",
       "      <td>0.122374</td>\n",
       "      <td>-1.056288</td>\n",
       "      <td>0.995984</td>\n",
       "      <td>0.684231</td>\n",
       "      <td>...</td>\n",
       "      <td>0.873756</td>\n",
       "      <td>0.101586</td>\n",
       "      <td>0.444216</td>\n",
       "      <td>1.300892</td>\n",
       "      <td>0.849193</td>\n",
       "      <td>0.044818</td>\n",
       "      <td>0.260650</td>\n",
       "      <td>1.272532</td>\n",
       "      <td>0.639477</td>\n",
       "      <td>0.057369</td>\n",
       "    </tr>\n",
       "    <tr>\n",
       "      <th>3</th>\n",
       "      <td>Left</td>\n",
       "      <td>0.662199</td>\n",
       "      <td>0.154675</td>\n",
       "      <td>-1.070333</td>\n",
       "      <td>0.998633</td>\n",
       "      <td>0.684339</td>\n",
       "      <td>0.122271</td>\n",
       "      <td>-1.033326</td>\n",
       "      <td>0.996270</td>\n",
       "      <td>0.694827</td>\n",
       "      <td>...</td>\n",
       "      <td>0.856349</td>\n",
       "      <td>0.100147</td>\n",
       "      <td>0.440901</td>\n",
       "      <td>1.434736</td>\n",
       "      <td>0.744298</td>\n",
       "      <td>0.041918</td>\n",
       "      <td>0.253972</td>\n",
       "      <td>1.375614</td>\n",
       "      <td>0.615659</td>\n",
       "      <td>0.056087</td>\n",
       "    </tr>\n",
       "    <tr>\n",
       "      <th>4</th>\n",
       "      <td>Left</td>\n",
       "      <td>0.661861</td>\n",
       "      <td>0.154551</td>\n",
       "      <td>-0.618257</td>\n",
       "      <td>0.998767</td>\n",
       "      <td>0.684329</td>\n",
       "      <td>0.122267</td>\n",
       "      <td>-0.596261</td>\n",
       "      <td>0.996634</td>\n",
       "      <td>0.694696</td>\n",
       "      <td>...</td>\n",
       "      <td>0.573611</td>\n",
       "      <td>0.104624</td>\n",
       "      <td>0.425197</td>\n",
       "      <td>1.521169</td>\n",
       "      <td>0.526637</td>\n",
       "      <td>0.042365</td>\n",
       "      <td>0.254608</td>\n",
       "      <td>1.464597</td>\n",
       "      <td>0.467664</td>\n",
       "      <td>0.059998</td>\n",
       "    </tr>\n",
       "  </tbody>\n",
       "</table>\n",
       "<p>5 rows × 133 columns</p>\n",
       "</div>"
      ],
      "text/plain": [
       "  class        x1        y1        z1        v1        x2        y2        z2  \\\n",
       "0  Left  0.627484  0.151723 -0.647896  0.998232  0.648523  0.121703 -0.603666   \n",
       "1  Left  0.641352  0.151721 -0.970539  0.998358  0.663978  0.121710 -0.934947   \n",
       "2  Left  0.651244  0.153861 -1.094983  0.998514  0.674605  0.122374 -1.056288   \n",
       "3  Left  0.662199  0.154675 -1.070333  0.998633  0.684339  0.122271 -1.033326   \n",
       "4  Left  0.661861  0.154551 -0.618257  0.998767  0.684329  0.122267 -0.596261   \n",
       "\n",
       "         v2        x3  ...       z31       v31       x32       y32       z32  \\\n",
       "0  0.995263  0.657341  ...  0.239542  0.109149  0.522030  0.995119  0.145659   \n",
       "1  0.995574  0.673015  ...  0.790160  0.101617  0.471389  1.217810  0.692263   \n",
       "2  0.995984  0.684231  ...  0.873756  0.101586  0.444216  1.300892  0.849193   \n",
       "3  0.996270  0.694827  ...  0.856349  0.100147  0.440901  1.434736  0.744298   \n",
       "4  0.996634  0.694696  ...  0.573611  0.104624  0.425197  1.521169  0.526637   \n",
       "\n",
       "        v32       x33       y33       z33       v33  \n",
       "0  0.049162  0.333944  0.966942  0.124182  0.058633  \n",
       "1  0.046613  0.289944  1.177155  0.611688  0.055068  \n",
       "2  0.044818  0.260650  1.272532  0.639477  0.057369  \n",
       "3  0.041918  0.253972  1.375614  0.615659  0.056087  \n",
       "4  0.042365  0.254608  1.464597  0.467664  0.059998  \n",
       "\n",
       "[5 rows x 133 columns]"
      ]
     },
     "execution_count": 80,
     "metadata": {},
     "output_type": "execute_result"
    }
   ],
   "source": [
    "df = pd.read_csv('Pose_keypoints.csv')\n",
    "df.head()"
   ]
  },
  {
   "cell_type": "code",
   "execution_count": 81,
   "id": "9d2fdea1",
   "metadata": {},
   "outputs": [
    {
     "data": {
      "text/plain": [
       "Nothing    134\n",
       "Down        98\n",
       "Up          88\n",
       "Left        81\n",
       "Right       75\n",
       "Name: class, dtype: int64"
      ]
     },
     "execution_count": 81,
     "metadata": {},
     "output_type": "execute_result"
    }
   ],
   "source": [
    "df[\"class\"].value_counts()"
   ]
  },
  {
   "cell_type": "code",
   "execution_count": 82,
   "id": "0dc3231c",
   "metadata": {},
   "outputs": [
    {
     "data": {
      "text/plain": [
       "<AxesSubplot:ylabel='class'>"
      ]
     },
     "execution_count": 82,
     "metadata": {},
     "output_type": "execute_result"
    },
    {
     "data": {
      "image/png": "[encoded data removed]",
      "text/plain": [
       "<Figure size 432x288 with 1 Axes>"
      ]
     },
     "metadata": {
      "needs_background": "light"
     },
     "output_type": "display_data"
    }
   ],
   "source": [
    "sns.barplot(df[\"class\"].value_counts().index, df[\"class\"].value_counts())"
   ]
  },
  {
   "cell_type": "code",
   "execution_count": null,
   "id": "79587a28",
   "metadata": {},
   "outputs": [],
   "source": []
  }
 ],
 "metadata": {
  "kernelspec": {
   "display_name": "Python 3",
   "language": "python",
   "name": "python3"
  },
  "language_info": {
   "codemirror_mode": {
    "name": "ipython",
    "version": 3
   },
   "file_extension": ".py",
   "mimetype": "text/x-python",
   "name": "python",
   "nbconvert_exporter": "python",
   "pygments_lexer": "ipython3",
   "version": "3.8.8"
  }
 },
 "nbformat": 4,
 "nbformat_minor": 5
}
